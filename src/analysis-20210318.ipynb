{
 "cells": [
  {
   "cell_type": "code",
   "execution_count": 3,
   "id": "alone-visitor",
   "metadata": {},
   "outputs": [
    {
     "data": {
      "text/plain": [
       "\"/Users/jnjeri/OneDrive - Kemri Wellcome Trust/variants-highlighter\""
      ]
     },
     "execution_count": 3,
     "metadata": {},
     "output_type": "execute_result"
    }
   ],
   "source": [
    "pwd()"
   ]
  },
  {
   "cell_type": "code",
   "execution_count": 4,
   "id": "designed-formula",
   "metadata": {},
   "outputs": [],
   "source": [
    "cd(\"$(homedir())/OneDrive - Kemri Wellcome Trust/variants-highlighter\")"
   ]
  },
  {
   "cell_type": "code",
   "execution_count": 2,
   "id": "least-level",
   "metadata": {},
   "outputs": [],
   "source": [
    "using Pkg"
   ]
  },
  {
   "cell_type": "code",
   "execution_count": 15,
   "id": "fatty-ceramic",
   "metadata": {},
   "outputs": [
    {
     "name": "stderr",
     "output_type": "stream",
     "text": [
      "\u001b[32m\u001b[1m  Resolving\u001b[22m\u001b[39m package versions...\n",
      "\u001b[32m\u001b[1mNo Changes\u001b[22m\u001b[39m to `~/.julia/environments/v1.5/Project.toml`\n",
      "\u001b[32m\u001b[1mNo Changes\u001b[22m\u001b[39m to `~/.julia/environments/v1.5/Manifest.toml`\n",
      "\u001b[32m\u001b[1m  Resolving\u001b[22m\u001b[39m package versions...\n",
      "\u001b[32m\u001b[1mNo Changes\u001b[22m\u001b[39m to `~/.julia/environments/v1.5/Project.toml`\n",
      "\u001b[32m\u001b[1mNo Changes\u001b[22m\u001b[39m to `~/.julia/environments/v1.5/Manifest.toml`\n",
      "\u001b[32m\u001b[1m  Resolving\u001b[22m\u001b[39m package versions...\n",
      "\u001b[32m\u001b[1mNo Changes\u001b[22m\u001b[39m to `~/.julia/environments/v1.5/Project.toml`\n",
      "\u001b[32m\u001b[1mNo Changes\u001b[22m\u001b[39m to `~/.julia/environments/v1.5/Manifest.toml`\n"
     ]
    }
   ],
   "source": [
    "Pkg.add(\"BioSequences\"); Pkg.add(\"BioAlignments\"); Pkg.add(\"FastaIO\")       # implementing biojulia: biosequences"
   ]
  },
  {
   "cell_type": "code",
   "execution_count": 28,
   "id": "offshore-headset",
   "metadata": {},
   "outputs": [],
   "source": [
    "using BioSequences; using BioAlignments; using FastaIO; "
   ]
  },
  {
   "cell_type": "code",
   "execution_count": 30,
   "id": "institutional-vegetarian",
   "metadata": {},
   "outputs": [
    {
     "name": "stdout",
     "output_type": "stream",
     "text": [
      "sample1 : ACGTTAGTCGTC\n",
      "sample2 : A-GTT-GTCACG\n",
      "sample3 : ACGTTGGTCATC\n",
      "sample4 : ACGTAAGCGACG\n"
     ]
    }
   ],
   "source": [
    "FastaReader(\"data/dummy-data-02-20210204.fa\") do fr\n",
    "    for (name, seq) in fr\n",
    "        println(\"$name : $seq\")\n",
    "    end\n",
    "end"
   ]
  },
  {
   "cell_type": "code",
   "execution_count": 17,
   "id": "loved-reserve",
   "metadata": {},
   "outputs": [
    {
     "data": {
      "text/plain": [
       "4-element Array{Tuple{String,String},1}:\n",
       " (\"sample1\", \"ACGTTAGTCGTC\")\n",
       " (\"sample2\", \"A-GTT-GTCACG\")\n",
       " (\"sample3\", \"ACGTTGGTCATC\")\n",
       " (\"sample4\", \"ACGTAAGCGACG\")"
      ]
     },
     "execution_count": 17,
     "metadata": {},
     "output_type": "execute_result"
    }
   ],
   "source": [
    "readfasta(\"data/dummy-data-02-20210204.fa\")"
   ]
  },
  {
   "cell_type": "code",
   "execution_count": 32,
   "id": "voluntary-magic",
   "metadata": {},
   "outputs": [
    {
     "name": "stdout",
     "output_type": "stream",
     "text": [
      ">sample1\n",
      "ACGTTAGTCGTC\n",
      ">sample2\n",
      "A-GTT-GTCACG\n",
      ">sample3\n",
      "ACGTTGGTCATC\n",
      ">sample4\n",
      "ACGTAAGCGACG\n"
     ]
    }
   ],
   "source": [
    "for (name, seq) in FastaReader(\"data/dummy-data-02-20210204.fa\")\n",
    "    println(\">$name\", \"\\n\", \"$seq\")\n",
    "end"
   ]
  },
  {
   "cell_type": "code",
   "execution_count": null,
   "id": "international-relative",
   "metadata": {},
   "outputs": [],
   "source": []
  }
 ],
 "metadata": {
  "kernelspec": {
   "display_name": "Julia 1.5.3",
   "language": "julia",
   "name": "julia-1.5"
  },
  "language_info": {
   "file_extension": ".jl",
   "mimetype": "application/julia",
   "name": "julia",
   "version": "1.5.3"
  }
 },
 "nbformat": 4,
 "nbformat_minor": 5
}
